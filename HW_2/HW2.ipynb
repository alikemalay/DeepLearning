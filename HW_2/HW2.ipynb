{
 "cells": [
  {
   "cell_type": "code",
   "execution_count": 24,
   "metadata": {},
   "outputs": [
    {
     "name": "stdout",
     "output_type": "stream",
     "text": [
      "+---------+-------------+------------+--------------+\n",
      "|   Index |   Distances |   Class No | Class Name   |\n",
      "+=========+=============+============+==============+\n",
      "|   42768 |     2622.5  |          8 | ship         |\n",
      "+---------+-------------+------------+--------------+\n",
      "|   44019 |     2658.84 |          1 | automobile   |\n",
      "+---------+-------------+------------+--------------+\n",
      "|   34140 |     2669.87 |          8 | ship         |\n",
      "+---------+-------------+------------+--------------+\n",
      "|    7535 |     2682.81 |          8 | ship         |\n",
      "+---------+-------------+------------+--------------+\n",
      "|   38089 |     2722.42 |          8 | ship         |\n",
      "+---------+-------------+------------+--------------+\n",
      "\n",
      "Most simple class name: ship\n"
     ]
    }
   ],
   "source": [
    "import numpy as np\n",
    "import matplotlib.pyplot as plt\n",
    "from collections import Counter\n",
    "from keras.datasets import cifar10\n",
    "from tabulate import tabulate\n",
    "\n",
    "(x_train, y_train), (x_test, y_test) = cifar10.load_data()\n",
    "\n",
    "label =[\"airplane\",\"automobile\",\"bird\",\"cat\",\"deer\",\"dog\",\"frog\",\"horse\",\"ship\",\"truck\"]\n",
    "tableheader = [\"Index\",\"Distances\",\"Class No\",\"Class Name\"]\n",
    "\n",
    "x_train = x_train.reshape(-1, 3072)\n",
    "x_test = x_test.reshape(-1, 3072)\n",
    "\n",
    "def L2Distance(v1,v2):\n",
    "    v1 = np.array(v1)\n",
    "    v2 = np.array(v2)\n",
    "    return np.sqrt(np.sum((v1-v2)**2))\n",
    "\n",
    "\n",
    "def vote(neighbors):\n",
    "    class_counter = Counter()\n",
    "    for neighbor in neighbors:\n",
    "        class_counter[neighbor[2]] += 1\n",
    "    return class_counter.most_common(1)[0][0]\n",
    "\n",
    "def knnClassifier(x_train,y_train,sample_test,k):\n",
    "    distances = []\n",
    "    for i in range(len(x_train)):\n",
    "        dist = L2Distance(sample_test.astype(np.uint32),x_train[i].astype(np.uint32))\n",
    "        distances.append((i, dist, y_train[i][0].astype(np.uint32),label[y_train[i][0].astype(np.uint32)]))\n",
    "    distances.sort(key=lambda x:(x[1]))\n",
    "    #for i in range(len(distances[:k])):\n",
    "       # print(i+1,\"- Dist: \", \"%.2f\" % round(distances[i][1],2), \" \\nLabel:\", distances[i][3],\" \\nIndex:\", distances[i][2],\"\\n\")\n",
    "    print(tabulate(distances[:k],headers=tableheader,tablefmt=\"grid\"))\n",
    "    simple_class_name = vote(distances[:k])\n",
    "    return simple_class_name\n",
    "\n",
    "sample_test = x_test[1,:]\n",
    "k=5\n",
    "\n",
    "msclassname = knnClassifier(x_train,y_train,sample_test,k);\n",
    "print(\"\\nMost simple class name:\", label[msclassname])"
   ]
  },
  {
   "cell_type": "code",
   "execution_count": null,
   "metadata": {},
   "outputs": [],
   "source": []
  }
 ],
 "metadata": {
  "kernelspec": {
   "display_name": "Python 3",
   "language": "python",
   "name": "python3"
  },
  "language_info": {
   "codemirror_mode": {
    "name": "ipython",
    "version": 3
   },
   "file_extension": ".py",
   "mimetype": "text/x-python",
   "name": "python",
   "nbconvert_exporter": "python",
   "pygments_lexer": "ipython3",
   "version": "3.6.5"
  }
 },
 "nbformat": 4,
 "nbformat_minor": 2
}
